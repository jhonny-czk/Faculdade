"""
Exemplo de aplicação de algoritmo genético em Python
Abrir arquivo no Coogle Colab.

Example of application of genetic algorithm in Python
Open file at Google Colab.
"""

#Estrutura básica do algoritmo evolutivo:
"""
1. t = 0
2. Inicializar população P0
3. Enquanto critério de parada == falso
   3.1 Avaliar população (Pt)
   3.2 P’ = Selecionar pais (Pt)
   3.3 F  = Aplicar recombinação e mutação (P’)
   3.4 Avaliar população (F)
   3.5 Pt+1 = Selecionar sobreviventes(Pt + F)
   3.6 t = t + 1
"""

#Modelagem do cromossomo
from dataclasses import dataclass
from dataclasses import field
from typing import List
from typing import Callable
from random import randint

@dataclass
class Cromossomo:
    fitness: Callable[[int], float]
    tamanho: int = 0
    vetor: List[int] = field(default_factory=list)

    def __post_init__(self):
        """Método chamado após o construtor."""
        self.vetor = [randint(0, 1) for _ in range(self.tamanho)]

    def __getitem__(self, key):
        return self.vetor[key]

    def __setitem__(self, key, value):
        self.vetor[key] = value

    def __len__(self):
        return self.tamanho

    def get_fitness(self):
        return self.fitness(self.vetor)

    # TODO: Implementar a cache do fitness


#Algoritmos de seleção dos pais
from typing import Tuple
from random import sample

def selecao_aleatoria_com_reposicao(P: List[Cromossomo]) -> List[Tuple[Cromossomo, Cromossomo]]:
    pais = []
    for _ in range(len(P) // 2):
        pais.append(sample(P, 2))

    return pais

#Algoritmos de recombinação
from random import randint

def crossover_1_ponto_corte(pais: List[Tuple[Cromossomo, Cromossomo]]):
    filhos = []

    # Crossover - 1 ponto de corte
    for p1, p2 in pais:
        corte = randint(1, len(p1) - 1)

        f1 = p1[:corte] + p2[corte:]
        f2 = p2[:corte] + p1[corte:]

        filhos.append(Cromossomo(p1.fitness, len(f1), f1))
        filhos.append(Cromossomo(p1.fitness, len(f2), f2))

    return filhos

from random import random

def mutacao_aleatoria(filhos, taxa):

    for cromossomo in filhos:
        for i, pos in enumerate(cromossomo):
            if random() <= taxa:
                cromossomo[i] = 0 if pos else 1

    return filhos

#Algoritmos de seleção dos sobreviventes
def elitismo(P, F):
    populacao_total = P + F
    populacao_total.sort(key=lambda c: -c.get_fitness())
    return populacao_total[:len(P)]

from pprint import pprint

def algoritmo_genetico(tam_populacao,
                       tam_cromossomo,
                       max_geracoes,
                       taxa_mutacao,
                       fitness,
                       selecionar_pais,
                       realizar_crossover,
                       realizar_mutacao,
                       selecionar_sobreviventes):

    # 1. t = 0
    t = 0

    # 2. Inicializar população P0
    P = [Cromossomo(fitness, TAM_CROMOSSOMO) for _ in range(TAM_POPULACAO)]

    # print("# População inicial")
    # pprint([c.vetor for c in P])

    # 3. Enquanto critério de parada == falso
    # TODO: implementar outros critérios de parada
    while t < max_geracoes:

        #   3.1 Avaliar população (Pt)
        #   OK! Avaliação delegada para o cromossomo 

        #   3.2 P’ = Selecionar pais (Pt)
        pais = selecionar_pais(P)

        #   3.3 F  = Aplicar recombinação e mutação (P’)
        F = realizar_crossover(pais)
        F = realizar_mutacao(F, TAXA_MUTACAO)

        #   3.4 Avaliar população (F)
        #   OK! Avaliação delegada para o cromossomo 

        #   3.5 Pt+1 = Selecionar sobreviventes(Pt + F)
        P = selecionar_sobreviventes(P, F)

        # Imprime o melhor individuo
        print(f'| {t:04d} | {P[0].vetor} | {P[0].get_fitness():4d} |')

        #   3.6 t = t + 1
        t += 1
    
    print()
    print(f'Melhor solução.: {P[0].vetor}')
    print(f'Fitness........: {P[0].get_fitness()}')

    return P[0]

#Problema 1
"""
Objetivo: maximizar o número de 1s em um cromossomo.

Etapas:

Modelar o genótipo e fenótipo do cromossomo
Criar a função de avaliação
Selecionar parâmetros do AG
Executar
"""

# 1. Modelar o genótipo e fenótipo do cromossomo
# Cromomossomo normal, sem nenhuma codificação especial para esse problema

# 2. Criar a função de avaliação
def fitness_maximizar_1(cromossomo):
    return sum(cromossomo)

# 3. Parametrizar o AG
TAM_POPULACAO = 10
TAM_CROMOSSOMO = 100
MAX_GERACOES = 10

TAXA_MUTACAO = 0.005
TORNEIO = 2

# 4. Executar
solucao = algoritmo_genetico(tam_populacao = TAM_POPULACAO,
                             tam_cromossomo = TAM_CROMOSSOMO,
                             max_geracoes = MAX_GERACOES,
                             taxa_mutacao = TAXA_MUTACAO,
                             fitness = fitness_maximizar_1,
                             selecionar_pais = selecao_aleatoria_com_reposicao,
                             #selecionar_pais = torneio,
                             realizar_crossover = crossover_1_ponto_corte,
                             realizar_mutacao = mutacao_aleatoria,
                             selecionar_sobreviventes = elitismo)


print('== EXPERIMENTO 1 ==')
MAX_GERACOES = 100
TAXA_MUTACAO = 0.05

solucao = algoritmo_genetico(tam_populacao = TAM_POPULACAO,
                             tam_cromossomo = TAM_CROMOSSOMO,
                             max_geracoes = MAX_GERACOES,
                             taxa_mutacao = TAXA_MUTACAO,
                             fitness = fitness_maximizar_1,
                             selecionar_pais = selecao_aleatoria_com_reposicao,
                             realizar_crossover = crossover_1_ponto_corte,
                             realizar_mutacao = mutacao_aleatoria,
                             selecionar_sobreviventes = elitismo)


print('== EXPERIMENTO 2 ==')
MAX_GERACOES = 20
TAXA_MUTACAO = 0.1

solucao = algoritmo_genetico(tam_populacao = TAM_POPULACAO,
                             tam_cromossomo = TAM_CROMOSSOMO,
                             max_geracoes = MAX_GERACOES,
                             taxa_mutacao = TAXA_MUTACAO,
                             fitness = fitness_maximizar_1,
                             selecionar_pais = selecao_aleatoria_com_reposicao,
                             realizar_crossover = crossover_1_ponto_corte,
                             realizar_mutacao = mutacao_aleatoria,
                             selecionar_sobreviventes = elitismo)

print('== EXPERIMENTO 3 ==')
MAX_GERACOES = 20
TAXA_MUTACAO = 0.8

solucao = algoritmo_genetico(tam_populacao = TAM_POPULACAO,
                             tam_cromossomo = TAM_CROMOSSOMO,
                             max_geracoes = MAX_GERACOES,
                             taxa_mutacao = TAXA_MUTACAO,
                             fitness = fitness_maximizar_1,
                             selecionar_pais = selecao_aleatoria_com_reposicao,
                             realizar_crossover = crossover_1_ponto_corte,
                             realizar_mutacao = mutacao_aleatoria,
                             selecionar_sobreviventes = elitismo)
